{
 "cells": [
  {
   "cell_type": "code",
   "execution_count": 5,
   "metadata": {},
   "outputs": [
    {
     "data": {
      "image/png": "[encoded data removed]",
      "text/plain": [
       "<Figure size 432x288 with 1 Axes>"
      ]
     },
     "metadata": {
      "needs_background": "light"
     },
     "output_type": "display_data"
    }
   ],
   "source": [
    "import numpy as np\n",
    "from math import pi, sqrt, exp\n",
    "import cmath\n",
    "import matplotlib.pyplot as plt\n",
    "import time \n",
    "from config import *\n",
    "from scipy.optimize import curve_fit\n",
    "\n",
    "\n",
    "path = 'TE_E_y.txt'\n",
    "\n",
    "text = []\n",
    "#text[0]  to text[15]  for different angle(0~15) incidint on mask\n",
    "with open(path, \"r\") as file1:\n",
    "    for line in file1.readlines():\n",
    "        T = []\n",
    "        f_list = [float(i) for i in line.split() if i.strip()]\n",
    "        T += f_list\n",
    "        text.append(T)\n",
    "temp = []\n",
    "temp2 = []\n",
    "x = np.linspace(-1, 1, 201)\n",
    "y = text[15]\n",
    "def gaussian2(x, a, b,d):\n",
    "    return a * np.exp(-(x - b)**2/2/d**2 )\n",
    "\n",
    "popt, pcov = curve_fit(gaussian2, x, y)  \n",
    "\n",
    "def gaussian(x, *param):\n",
    "    return param[0]*np.exp(-np.power(x - param[1], 2.) / (2* np.power(param[4], 2.))) \n",
    "#           param[1]*np.exp(-np.power(x - param[3], 2.) / (2* np.power(param[5], 2.)))\n",
    "#popt, pcov = curve_fit(gaussian, x, y)  \n",
    "\n",
    "for i in range(15):\n",
    "    popt, pcov = curve_fit(gaussian2, x, y)  \n",
    "    \n",
    "#popt array\n",
    "#pcov 2d-array\n",
    "\n",
    "plt.plot(x,y, 'b+:', label = 'data')\n",
    "plt.plot(x, gaussian2(x, *popt), 'ro', label = 'fit')\n",
    "plt.legend()\n",
    "plt.show()"
   ]
  },
  {
   "cell_type": "code",
   "execution_count": 6,
   "metadata": {},
   "outputs": [
    {
     "name": "stdout",
     "output_type": "stream",
     "text": [
      "[1.38427499 4.67972871 1.52654713 5.07173407 0.27783389 2.14342122]\n",
      "[[ 6.11396318e+09 -1.48464404e+03 -7.38507394e+07 -1.19242714e+04\n",
      "  -3.85544239e+08  1.15140457e+04]\n",
      " [-1.48464404e+03  3.60513726e-02  1.79321619e+01  5.33348538e-03\n",
      "   9.36256462e+01 -1.74681954e-02]\n",
      " [-7.38507394e+07  1.79321619e+01  8.92045247e+05  1.44034847e+02\n",
      "   4.65700010e+06 -1.39078828e+02]\n",
      " [-1.19242714e+04  5.33348538e-03  1.44034847e+02  3.61656710e-02\n",
      "   7.51945633e+02 -2.70704881e-02]\n",
      " [-3.85544239e+08  9.36256462e+01  4.65700010e+06  7.51945633e+02\n",
      "   2.43122760e+07 -7.26079297e+02]\n",
      " [ 1.15140457e+04 -1.74681954e-02 -1.39078828e+02 -2.70704881e-02\n",
      "  -7.26079297e+02  3.86138649e-02]]\n"
     ]
    },
    {
     "data": {
      "image/png": "[encoded data removed]",
      "text/plain": [
       "<Figure size 432x288 with 1 Axes>"
      ]
     },
     "metadata": {
      "needs_background": "light"
     },
     "output_type": "display_data"
    }
   ],
   "source": [
    "import numpy as np\n",
    "import pylab as plt\n",
    "\n",
    "from scipy.optimize import curve_fit\n",
    "#from scipy import asarray as ar,exp\n",
    "\n",
    "x = np.array(range(10))\n",
    "y = np.array([0,1,2,3,4,5,4,3,2,1])\n",
    "\n",
    "def gaussian(x, *param):\n",
    "    return param[0]*np.exp(-np.power(x - param[2], 2.) / (2* np.power(param[4], 2.))) + \\\n",
    "           param[1]*np.exp(-np.power(x - param[3], 2.) / (2* np.power(param[5], 2.)))\n",
    "popt, pcov = curve_fit(gaussian, x, y, p0 = [3,4,3,6,1,1])\n",
    "print(popt)\n",
    "print(pcov)\n",
    "\n",
    "plt.plot(x,y, 'b+:', label = 'data')\n",
    "plt.plot(x, gaussian(x, *popt), 'ro', label = 'fit')\n",
    "plt.legend()\n",
    "plt.show()"
   ]
  },
  {
   "cell_type": "code",
   "execution_count": 24,
   "metadata": {},
   "outputs": [
    {
     "name": "stdout",
     "output_type": "stream",
     "text": [
      "[-1.   -0.99 -0.98 -0.97 -0.96 -0.95 -0.94 -0.93 -0.92 -0.91 -0.9  -0.89\n",
      " -0.88 -0.87 -0.86 -0.85 -0.84 -0.83 -0.82 -0.81 -0.8  -0.79 -0.78 -0.77\n",
      " -0.76 -0.75 -0.74 -0.73 -0.72 -0.71 -0.7  -0.69 -0.68 -0.67 -0.66 -0.65\n",
      " -0.64 -0.63 -0.62 -0.61 -0.6  -0.59 -0.58 -0.57 -0.56 -0.55 -0.54 -0.53\n",
      " -0.52 -0.51 -0.5  -0.49 -0.48 -0.47 -0.46 -0.45 -0.44 -0.43 -0.42 -0.41\n",
      " -0.4  -0.39 -0.38 -0.37 -0.36 -0.35 -0.34 -0.33 -0.32 -0.31 -0.3  -0.29\n",
      " -0.28 -0.27 -0.26 -0.25 -0.24 -0.23 -0.22 -0.21 -0.2  -0.19 -0.18 -0.17\n",
      " -0.16 -0.15 -0.14 -0.13 -0.12 -0.11 -0.1  -0.09 -0.08 -0.07 -0.06 -0.05\n",
      " -0.04 -0.03 -0.02 -0.01  0.    0.01  0.02  0.03  0.04  0.05  0.06  0.07\n",
      "  0.08  0.09  0.1   0.11  0.12  0.13  0.14  0.15  0.16  0.17  0.18  0.19\n",
      "  0.2   0.21  0.22  0.23  0.24  0.25  0.26  0.27  0.28  0.29  0.3   0.31\n",
      "  0.32  0.33  0.34  0.35  0.36  0.37  0.38  0.39  0.4   0.41  0.42  0.43\n",
      "  0.44  0.45  0.46  0.47  0.48  0.49  0.5   0.51  0.52  0.53  0.54  0.55\n",
      "  0.56  0.57  0.58  0.59  0.6   0.61  0.62  0.63  0.64  0.65  0.66  0.67\n",
      "  0.68  0.69  0.7   0.71  0.72  0.73  0.74  0.75  0.76  0.77  0.78  0.79\n",
      "  0.8   0.81  0.82  0.83  0.84  0.85  0.86  0.87  0.88  0.89  0.9   0.91\n",
      "  0.92  0.93  0.94  0.95  0.96  0.97  0.98  0.99  1.  ]\n"
     ]
    }
   ],
   "source": [
    "x = np.linspace(-1, 1, 201)\n",
    "print(x)"
   ]
  },
  {
   "cell_type": "code",
   "execution_count": null,
   "metadata": {},
   "outputs": [],
   "source": []
  }
 ],
 "metadata": {
  "kernelspec": {
   "display_name": "Python 3",
   "language": "python",
   "name": "python3"
  },
  "language_info": {
   "codemirror_mode": {
    "name": "ipython",
    "version": 3
   },
   "file_extension": ".py",
   "mimetype": "text/x-python",
   "name": "python",
   "nbconvert_exporter": "python",
   "pygments_lexer": "ipython3",
   "version": "3.8.3"
  }
 },
 "nbformat": 4,
 "nbformat_minor": 4
}
